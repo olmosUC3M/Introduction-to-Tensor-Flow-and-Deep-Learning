{
 "cells": [
  {
   "cell_type": "markdown",
   "metadata": {},
   "source": [
    "# A short & practical introduction to Tensor Flow!\n",
    "\n",
    "Part 1\n",
    "\n",
    "Goals for today:\n",
    "    - Train a multinomial Logistic Regressor with Gradient Descend\n",
    "    - Train a multinomial Logistic Regressor with Stochastic Gradient Descend\n",
    "    - Introduce regularization in the two models above. Select the regularization parameter via CV\n",
    "    \n",
    "    - Homework: Create a Neural Network with 2 layers\n",
    "    \n",
    "This is a personal wrap-up of all the material provided by [Google's Deep Learning course on Udacity](https://www.udacity.com/course/deep-learning--ud730), so all credit goes to them. \n",
    "\n",
    "Author: Pablo M. Olmos (olmos@tsc.uc3m.es)\n",
    "\n",
    "Date: March 2017"
   ]
  },
  {
   "cell_type": "code",
   "execution_count": 9,
   "metadata": {
    "collapsed": true
   },
   "outputs": [],
   "source": [
    "# These are all the modules we'll be using later. Make sure you can import them\n",
    "# before proceeding further.\n",
    "import numpy as np\n",
    "import tensorflow as tf\n",
    "from six.moves import cPickle as pickle\n",
    "from six.moves import range\n",
    "from IPython.display import display, Image\n",
    "import matplotlib.pyplot as plt\n",
    "# Config the matlotlib backend as plotting inline in IPython\n",
    "%matplotlib inline\n"
   ]
  },
  {
   "cell_type": "code",
   "execution_count": 10,
   "metadata": {
    "collapsed": false
   },
   "outputs": [
    {
     "name": "stdout",
     "output_type": "stream",
     "text": [
      "1.3.0\n"
     ]
    }
   ],
   "source": [
    "# Lets check what version of tensorflow we have installed. The provided scripts should run with tf 1.0 and above\n",
    "\n",
    "print(tf.__version__)"
   ]
  },
  {
   "cell_type": "markdown",
   "metadata": {},
   "source": [
    "## Loading a dataset of images of 10 letters (not MNIST)"
   ]
  },
  {
   "cell_type": "code",
   "execution_count": 11,
   "metadata": {
    "collapsed": false
   },
   "outputs": [
    {
     "name": "stdout",
     "output_type": "stream",
     "text": [
      "Training set (4000, 28, 28) (4000,)\n",
      "Validation set (2000, 28, 28) (2000,)\n",
      "Test set (10000, 28, 28) (10000,)\n"
     ]
    }
   ],
   "source": [
    "pickle_file = '../../DataSets/notMNIST/notMNIST_4e3_2e3_10e3.pickle' ## Change according to the folder where you saved the dataset provided\n",
    "\n",
    "with open(pickle_file, 'rb') as f:\n",
    "    save = pickle.load(f)\n",
    "    train_dataset = save['train_dataset']\n",
    "    train_labels = save['train_labels']\n",
    "    valid_dataset = save['valid_dataset']\n",
    "    valid_labels = save['valid_labels']\n",
    "    test_dataset = save['test_dataset']\n",
    "    test_labels = save['test_labels']\n",
    "    del save  # hint to help gc free up memory\n",
    "    print('Training set', train_dataset.shape, train_labels.shape)\n",
    "    print('Validation set', valid_dataset.shape, valid_labels.shape)\n",
    "    print('Test set', test_dataset.shape, test_labels.shape)"
   ]
  },
  {
   "cell_type": "markdown",
   "metadata": {},
   "source": [
    "Lets visualize some of the images ..."
   ]
  },
  {
   "cell_type": "code",
   "execution_count": 12,
   "metadata": {
    "collapsed": false
   },
   "outputs": [
    {
     "data": {
      "image/png": "[encoded data removed]",
      "text/plain": [
       "<matplotlib.figure.Figure at 0x10c643b70>"
      ]
     },
     "metadata": {},
     "output_type": "display_data"
    },
    {
     "data": {
      "image/png": "[encoded data removed]",
      "text/plain": [
       "<matplotlib.figure.Figure at 0x10d2ca668>"
      ]
     },
     "metadata": {},
     "output_type": "display_data"
    },
    {
     "data": {
      "image/png": "[encoded data removed]",
      "text/plain": [
       "<matplotlib.figure.Figure at 0x10d26a588>"
      ]
     },
     "metadata": {},
     "output_type": "display_data"
    }
   ],
   "source": [
    "#Generate a random index\n",
    "num_figs=3\n",
    "\n",
    "index=np.random.randint(train_dataset.shape[0], size=num_figs)\n",
    "\n",
    "str_labels = ['A','B','C','D','E','F','G','H','I','J']\n",
    "\n",
    "for i in range(num_figs):\n",
    "    plt.figure()\n",
    "    plt.imshow(train_dataset[index[i],:,:],cmap=plt.cm.gray)\n",
    "    plt.title('Label:' + str_labels[train_labels[index[i]]])"
   ]
  },
  {
   "cell_type": "markdown",
   "metadata": {},
   "source": [
    "### Reformat into a shape that's more adapted to the models we're going to train, i.e.,  data as a flat matrix, labels as float 1-hot encodings.\n",
    "\n",
    "To do this, we use the following Python trick I did not know before ... "
   ]
  },
  {
   "cell_type": "code",
   "execution_count": 13,
   "metadata": {
    "collapsed": false
   },
   "outputs": [
    {
     "name": "stdout",
     "output_type": "stream",
     "text": [
      "[0 1 2 3 4 5 6 7 8 9]\n"
     ]
    }
   ],
   "source": [
    "array_of_integers=np.arange(10)\n",
    "\n",
    "print(array_of_integers)"
   ]
  },
  {
   "cell_type": "code",
   "execution_count": 14,
   "metadata": {
    "collapsed": false
   },
   "outputs": [
    {
     "name": "stdout",
     "output_type": "stream",
     "text": [
      "[[False  True False False False False False False False False]\n",
      " [False False  True False False False False False False False]\n",
      " [False False False False False False False False  True False]]\n"
     ]
    }
   ],
   "source": [
    "one_hot_encoding_first_three_train_labels=array_of_integers==train_labels[0:3,None]\n",
    "\n",
    "print(one_hot_encoding_first_three_train_labels)"
   ]
  },
  {
   "cell_type": "markdown",
   "metadata": {},
   "source": [
    "This is very convenient!! \n",
    "\n",
    "To convert the image into arrays, use [numpy.reshape](http://docs.scipy.org/doc/numpy-dev/reference/generated/numpy.reshape.html#numpy.reshape)\n",
    "\n",
    "Hint: see what the -1 does as input parameter\n"
   ]
  },
  {
   "cell_type": "code",
   "execution_count": 15,
   "metadata": {
    "collapsed": false
   },
   "outputs": [
    {
     "name": "stdout",
     "output_type": "stream",
     "text": [
      "Training set (4000, 784) (4000, 10)\n",
      "Validation set (2000, 784) (2000, 10)\n",
      "Test set (10000, 784) (10000, 10)\n"
     ]
    }
   ],
   "source": [
    "image_size = 28\n",
    "num_labels = 10\n",
    "\n",
    "def reformat(dataset, labels):\n",
    "    #We convert images into arrays\n",
    "    dataset = dataset.reshape((-1, image_size * image_size)).astype(np.float32)\n",
    "    \n",
    "    # Map 0 to [1.0, 0.0, 0.0 ...], 1 to [0.0, 1.0, 0.0 ...]\n",
    "    labels = (np.arange(num_labels) == labels[:,None]).astype(np.float32)\n",
    "    return dataset, labels\n",
    "\n",
    "train_dataset, train_labels = reformat(train_dataset, train_labels)\n",
    "valid_dataset, valid_labels = reformat(valid_dataset, valid_labels)\n",
    "test_dataset, test_labels = reformat(test_dataset, test_labels)\n",
    "print('Training set', train_dataset.shape, train_labels.shape)\n",
    "print('Validation set', valid_dataset.shape, valid_labels.shape)\n",
    "print('Test set', test_dataset.shape, test_labels.shape)"
   ]
  },
  {
   "cell_type": "markdown",
   "metadata": {},
   "source": [
    "## Lets define and train a LR with tensorflow!!"
   ]
  },
  {
   "cell_type": "markdown",
   "metadata": {},
   "source": [
    "We're first going to train a multinomial logistic regression using simple gradient descent. \n",
    "\n",
    "$$ p(y_i=1|x)=\\frac{\\text{e}^{(w^T_i x+b_i)}}{\\sum_{j=1}^{K} \\text{e}^{(w^T_j x+b_j)}}\\qquad i=1,\\ldots, K$$\n",
    "\n",
    "where $x\\in\\mathbb{R}^D$ is the input array vector, $w_i\\in\\mathbb{R}^D$ for $i=1,\\ldots, J$ and $b\\in\\mathbb{R}^J$ are the weights and biases to be estimated and $y_i$ is the output (one-hot encoded) vector, $i=1,\\ldots, J$. Weight matrix $W=[w_1 w_2 \\ldots w_J]_{D\\times J}$ is chosen to minimize the cross-entropy loss function:\n",
    "\n",
    "$$ L(W)=-\\frac{1}{N}\\sum_{n=1}^{N} \\sum_{i=1}^{K}  y_i^{n} \\log\\left(p(y^{n}_i=1|x^n)\\right)$$ \n",
    "\n",
    "where $(x^n,y^n)$ is the $n$-th data of the training set.\n"
   ]
  },
  {
   "cell_type": "markdown",
   "metadata": {},
   "source": [
    "TensorFlow works like this:\n",
    "\n",
    "    First you describe the computation that you want to see performed: what the inputs, the variables, and the operations look like. These get created as nodes over a computation graph. This description is all contained within the block below:\n",
    "\n",
    "    with graph.as_default():\n",
    "        ...\n",
    "\n",
    "    Then you can run the operations on this graph as many times as you want by calling session.run(), providing it outputs to fetch from the graph that get returned. This runtime operation is all contained in the block below:\n",
    "\n",
    "    with tf.Session(graph=graph) as session:\n",
    "        ...\n",
    "\n",
    "Let's load all the data into TensorFlow and build the computation graph corresponding to our training"
   ]
  },
  {
   "cell_type": "code",
   "execution_count": 16,
   "metadata": {
    "collapsed": true
   },
   "outputs": [],
   "source": [
    "# With gradient descent training, even this much data is prohibitive.\n",
    "# Subset the training data for faster turnaround.\n",
    "train_subset = 1000\n",
    "\n",
    "graph_LR = tf.Graph()\n",
    "\n",
    "with graph_LR.as_default():\n",
    "    \n",
    "    # Input data.\n",
    "    # Load the training, validation and test data into constants that are\n",
    "    # attached to the graph.\n",
    "    tf_train_dataset = tf.constant(train_dataset[:train_subset, :])\n",
    "    tf_train_labels = tf.constant(train_labels[:train_subset])\n",
    "    tf_valid_dataset = tf.constant(valid_dataset)\n",
    "    tf_test_dataset = tf.constant(test_dataset)    \n",
    "\n",
    "    # Variables.\n",
    "    # These are the parameters that we are going to be training. The weight\n",
    "    # matrix will be initialized using random values following a (truncated)\n",
    "    # normal distribution. The biases get initialized to zero.\n",
    "    weights = tf.Variable(tf.truncated_normal([image_size * image_size, num_labels]))\n",
    "    \n",
    "    biases = tf.Variable(tf.zeros([num_labels]))\n",
    "\n",
    "    # Training computation.\n",
    "    # We multiply the inputs with the weight matrix, and add biases. We compute\n",
    "    # the softmax and cross-entropy (it's one operation in TensorFlow, because\n",
    "    # it's very common, and it can be optimized). We take the average of this\n",
    "    # cross-entropy across all training examples: that's our loss.\n",
    "    logits = tf.matmul(tf_train_dataset, weights) + biases\n",
    "    \n",
    "    loss = tf.reduce_mean(\n",
    "        tf.nn.softmax_cross_entropy_with_logits(labels=tf_train_labels,logits=logits))\n",
    "    \n",
    "    # Optimizer.\n",
    "    # We are going to find the minimum of this loss using gradient descent.\n",
    "    #optimizer = tf.train.GradientDescentOptimizer(0.5).minimize(loss)\n",
    "    \n",
    "    # Optimizer.\n",
    "    # We are going to find the minimum of this loss using ADAGRAD   \n",
    "    optimizer = (tf.train.AdagradOptimizer\n",
    "             (learning_rate=0.05,initial_accumulator_value=0.1,use_locking=False,name='Adagrad').minimize(loss))\n",
    "    \n",
    "    # Predictions for the training, validation, and test data.\n",
    "    # These are not part of training, but merely here so that we can report\n",
    "    # accuracy figures as we train.\n",
    "    train_prediction = tf.nn.softmax(logits)\n",
    "    valid_prediction = tf.nn.softmax(tf.matmul(tf_valid_dataset, weights) + biases)\n",
    "    test_prediction = tf.nn.softmax(tf.matmul(tf_test_dataset, weights) + biases) "
   ]
  },
  {
   "cell_type": "code",
   "execution_count": 17,
   "metadata": {
    "collapsed": true
   },
   "outputs": [],
   "source": [
    "def accuracy(predictions, labels):\n",
    "    return (100.0 * np.sum(np.argmax(predictions, 1) == np.argmax(labels, 1))\n",
    "              / predictions.shape[0])"
   ]
  },
  {
   "cell_type": "code",
   "execution_count": 18,
   "metadata": {
    "collapsed": false
   },
   "outputs": [
    {
     "name": "stdout",
     "output_type": "stream",
     "text": [
      "Initialized\n",
      "Loss at step 0: 18.638182\n",
      "Training accuracy: 13.3%\n",
      "Validation accuracy: 13.1%\n",
      "Loss at step 500: 1.035050\n",
      "Training accuracy: 83.2%\n",
      "Validation accuracy: 68.3%\n",
      "Loss at step 1000: 0.487682\n",
      "Training accuracy: 90.7%\n",
      "Validation accuracy: 68.8%\n",
      "Loss at step 1500: 0.244062\n",
      "Training accuracy: 95.2%\n",
      "Validation accuracy: 68.6%\n",
      "Loss at step 2000: 0.128583\n",
      "Training accuracy: 98.0%\n",
      "Validation accuracy: 69.0%\n",
      "Loss at step 2500: 0.079604\n",
      "Training accuracy: 99.1%\n",
      "Validation accuracy: 69.4%\n",
      "Test accuracy: 75.5%\n"
     ]
    }
   ],
   "source": [
    "num_steps=3000\n",
    "\n",
    "with tf.Session(graph=graph_LR) as session:\n",
    "    \n",
    "    # This is a one-time operation which ensures the parameters get initialized as\n",
    "    # we described in the graph: random weights for the matrix, zeros for the\n",
    "    # biases.\n",
    "    tf.global_variables_initializer().run()\n",
    "    print('Initialized')\n",
    "    for step in range(num_steps):\n",
    "        # Run the computations. We tell .run() that we want to run the optimizer,\n",
    "        # and get the loss value and the training predictions returned as numpy\n",
    "        # arrays.\n",
    "        \n",
    "        _, l, predictions = session.run([optimizer, loss, train_prediction])\n",
    "        if (step % 500 == 0):\n",
    "            print('Loss at step %d: %f' % (step, l))\n",
    "            print('Training accuracy: %.1f%%' % accuracy(\n",
    "            predictions, train_labels[:train_subset, :]))\n",
    "            # Calling .eval() on valid_prediction is basically like calling run(), but\n",
    "            # just to get that one numpy array. Note that it recomputes all its graph\n",
    "            # dependencies.\n",
    "            print('Validation accuracy: %.1f%%' % accuracy(\n",
    "                valid_prediction.eval(), valid_labels))\n",
    "    print('Test accuracy: %.1f%%' % accuracy(test_prediction.eval(), test_labels))"
   ]
  },
  {
   "cell_type": "markdown",
   "metadata": {},
   "source": [
    "## Easy istn'it? Let's now switch to stochastic gradient descent training instead, which is much faster.\n",
    "\n",
    "The graph will be similar, except that instead of holding all the training data into a constant node, we create a Placeholder node which will be fed actual data at every call of session.run()."
   ]
  },
  {
   "cell_type": "code",
   "execution_count": 19,
   "metadata": {
    "collapsed": true
   },
   "outputs": [],
   "source": [
    "batch_size = 128\n",
    "\n",
    "graph_LR_SGD = tf.Graph()\n",
    "\n",
    "with graph_LR_SGD.as_default():\n",
    "    \n",
    "    # Input data.\n",
    "    # Input data. For the training data, we use a placeholder that will be fed\n",
    "    # at run time with a training minibatch.\n",
    "    tf_train_dataset = tf.placeholder(tf.float32,shape=(batch_size, image_size * image_size))\n",
    "    tf_train_labels = tf.placeholder(tf.float32, shape=(batch_size, num_labels))\n",
    "    tf_valid_dataset = tf.constant(valid_dataset)\n",
    "    tf_test_dataset = tf.constant(test_dataset)    \n",
    "\n",
    "    # Variables.\n",
    "    # These are the parameters that we are going to be training. The weight\n",
    "    # matrix will be initialized using random values following a (truncated)\n",
    "    # normal distribution. The biases get initialized to zero.\n",
    "    weights = tf.Variable(tf.truncated_normal([image_size * image_size, num_labels]))\n",
    "    biases = tf.Variable(tf.zeros([num_labels]))\n",
    "\n",
    "    # Training computation.\n",
    "    # We multiply the inputs with the weight matrix, and add biases. We compute\n",
    "    # the softmax and cross-entropy (it's one operation in TensorFlow, because\n",
    "    # it's very common, and it can be optimized). We take the average of this\n",
    "    # cross-entropy across all training examples: that's our loss.\n",
    "    logits = tf.matmul(tf_train_dataset, weights) + biases\n",
    "    \n",
    "    loss = tf.reduce_mean(\n",
    "        tf.nn.softmax_cross_entropy_with_logits(labels=tf_train_labels,logits=logits))\n",
    "    \n",
    "    # Optimizer.\n",
    "    # We are going to find the minimum of this loss using gradient descent.\n",
    "    # optimizer = tf.train.GradientDescentOptimizer(0.5).minimize(loss)\n",
    "    \n",
    "    # Optimizer.\n",
    "    # We are going to find the minimum of this loss using ADAGRAD   \n",
    "    optimizer = (tf.train.AdagradOptimizer\n",
    "             (learning_rate=0.05,initial_accumulator_value=0.1,use_locking=False,name='Adagrad').minimize(loss))\n",
    "    \n",
    "    # Predictions for the training, validation, and test data.\n",
    "    # These are not part of training, but merely here so that we can report\n",
    "    # accuracy figures as we train.\n",
    "    train_prediction = tf.nn.softmax(logits)\n",
    "    valid_prediction = tf.nn.softmax(\n",
    "        tf.matmul(tf_valid_dataset, weights) + biases)\n",
    "    test_prediction = tf.nn.softmax(tf.matmul(tf_test_dataset, weights) + biases) "
   ]
  },
  {
   "cell_type": "code",
   "execution_count": 20,
   "metadata": {
    "collapsed": false
   },
   "outputs": [
    {
     "name": "stdout",
     "output_type": "stream",
     "text": [
      "Initialized\n",
      "Minibatch loss at step 0: 17.668907\n",
      "Minibatch accuracy: 7.8%\n",
      "Validation accuracy: 9.6%\n",
      "Minibatch loss at step 1000: 1.335656\n",
      "Minibatch accuracy: 81.2%\n",
      "Validation accuracy: 72.8%\n",
      "Minibatch loss at step 2000: 1.184857\n",
      "Minibatch accuracy: 77.3%\n",
      "Validation accuracy: 73.7%\n",
      "Minibatch loss at step 3000: 1.028442\n",
      "Minibatch accuracy: 81.2%\n",
      "Validation accuracy: 74.5%\n",
      "Minibatch loss at step 4000: 0.771170\n",
      "Minibatch accuracy: 87.5%\n",
      "Validation accuracy: 74.6%\n",
      "Minibatch loss at step 5000: 0.406287\n",
      "Minibatch accuracy: 86.7%\n",
      "Validation accuracy: 74.2%\n",
      "Minibatch loss at step 6000: 0.610388\n",
      "Minibatch accuracy: 82.0%\n",
      "Validation accuracy: 74.9%\n",
      "Minibatch loss at step 7000: 0.418773\n",
      "Minibatch accuracy: 88.3%\n",
      "Validation accuracy: 74.5%\n",
      "Minibatch loss at step 8000: 0.437604\n",
      "Minibatch accuracy: 88.3%\n",
      "Validation accuracy: 74.7%\n",
      "Minibatch loss at step 9000: 0.451682\n",
      "Minibatch accuracy: 86.7%\n",
      "Validation accuracy: 74.8%\n",
      "Minibatch loss at step 10000: 0.456434\n",
      "Minibatch accuracy: 89.8%\n",
      "Validation accuracy: 74.8%\n",
      "Minibatch loss at step 11000: 0.469643\n",
      "Minibatch accuracy: 91.4%\n",
      "Validation accuracy: 75.1%\n",
      "Minibatch loss at step 12000: 0.537534\n",
      "Minibatch accuracy: 85.9%\n",
      "Validation accuracy: 75.2%\n",
      "Minibatch loss at step 13000: 0.500164\n",
      "Minibatch accuracy: 86.7%\n",
      "Validation accuracy: 75.0%\n",
      "Minibatch loss at step 14000: 0.438171\n",
      "Minibatch accuracy: 90.6%\n",
      "Validation accuracy: 75.2%\n",
      "Minibatch loss at step 15000: 0.609196\n",
      "Minibatch accuracy: 86.7%\n",
      "Validation accuracy: 75.2%\n",
      "Minibatch loss at step 16000: 0.384207\n",
      "Minibatch accuracy: 93.0%\n",
      "Validation accuracy: 75.4%\n",
      "Minibatch loss at step 17000: 0.637911\n",
      "Minibatch accuracy: 83.6%\n",
      "Validation accuracy: 75.5%\n",
      "Minibatch loss at step 18000: 0.228221\n",
      "Minibatch accuracy: 91.4%\n",
      "Validation accuracy: 75.6%\n",
      "Minibatch loss at step 19000: 0.135553\n",
      "Minibatch accuracy: 96.9%\n",
      "Validation accuracy: 75.6%\n",
      "Minibatch loss at step 20000: 0.358983\n",
      "Minibatch accuracy: 92.2%\n",
      "Validation accuracy: 75.7%\n",
      "Minibatch loss at step 21000: 0.314651\n",
      "Minibatch accuracy: 93.0%\n",
      "Validation accuracy: 75.8%\n",
      "Minibatch loss at step 22000: 0.273029\n",
      "Minibatch accuracy: 96.9%\n",
      "Validation accuracy: 76.0%\n",
      "Minibatch loss at step 23000: 0.238028\n",
      "Minibatch accuracy: 92.2%\n",
      "Validation accuracy: 76.0%\n",
      "Minibatch loss at step 24000: 0.329684\n",
      "Minibatch accuracy: 96.1%\n",
      "Validation accuracy: 75.8%\n",
      "Minibatch loss at step 25000: 0.226737\n",
      "Minibatch accuracy: 93.8%\n",
      "Validation accuracy: 75.8%\n",
      "Minibatch loss at step 26000: 0.153714\n",
      "Minibatch accuracy: 96.1%\n",
      "Validation accuracy: 75.8%\n",
      "Minibatch loss at step 27000: 0.228693\n",
      "Minibatch accuracy: 93.8%\n",
      "Validation accuracy: 76.0%\n",
      "Minibatch loss at step 28000: 0.318690\n",
      "Minibatch accuracy: 93.0%\n",
      "Validation accuracy: 76.0%\n",
      "Minibatch loss at step 29000: 0.152442\n",
      "Minibatch accuracy: 97.7%\n",
      "Validation accuracy: 75.8%\n",
      "Minibatch loss at step 30000: 0.225052\n",
      "Minibatch accuracy: 96.1%\n",
      "Validation accuracy: 75.8%\n",
      "Test accuracy: 79.9%\n"
     ]
    }
   ],
   "source": [
    "num_steps = 30001\n",
    "\n",
    "with tf.Session(graph=graph_LR_SGD) as session:\n",
    "    \n",
    "    tf.global_variables_initializer().run()\n",
    "    print(\"Initialized\")\n",
    "    for step in range(num_steps):\n",
    "        \n",
    "        # Pick an offset within the training data, which has been randomized.\n",
    "        # Note: we could use better randomization across epochs.\n",
    "        \n",
    "        offset = (step * batch_size) % (train_labels.shape[0] - batch_size)\n",
    "        \n",
    "        # Generate a minibatch.\n",
    "        \n",
    "        batch_data = train_dataset[offset:(offset + batch_size), :]\n",
    "        batch_labels = train_labels[offset:(offset + batch_size), :]\n",
    "        \n",
    "        # Prepare a dictionary telling the session where to feed the minibatch.\n",
    "        # The key of the dictionary is the placeholder node of the graph to be fed,\n",
    "        # and the value is the numpy array to feed to it.\n",
    "        \n",
    "        feed_dict = {tf_train_dataset : batch_data, tf_train_labels : batch_labels}\n",
    "        \n",
    "       \n",
    "        _, l, predictions = session.run(\n",
    "          [optimizer, loss, train_prediction], feed_dict=feed_dict)\n",
    "        \n",
    "        if (step % 1000 == 0):\n",
    "            print(\"Minibatch loss at step %d: %f\" % (step, l))\n",
    "            print(\"Minibatch accuracy: %.1f%%\" % accuracy(predictions, batch_labels))\n",
    "            print(\"Validation accuracy: %.1f%%\" % accuracy(\n",
    "                valid_prediction.eval(), valid_labels))\n",
    "\n",
    "    print(\"Test accuracy: %.1f%%\" % accuracy(test_prediction.eval(), test_labels))"
   ]
  },
  {
   "cell_type": "markdown",
   "metadata": {},
   "source": [
    "## Excelent! Now, lets introduce regularization via L2 penalization in the cost function\n",
    "\n",
    "\n",
    "$$ L(W)=-\\frac{1}{N}\\sum_{n=1}^{N} \\sum_{i=1}^{K}  y_i^{n} \\log\\left(p(y^{n}_i=1|x^n)\\right)+\\beta||W||_2$$\n"
   ]
  },
  {
   "cell_type": "code",
   "execution_count": 21,
   "metadata": {
    "collapsed": true
   },
   "outputs": [],
   "source": [
    "batch_size = 128\n",
    "beta=1.0 #Regularization parameter\n",
    "graph_LR_SGD_REG = tf.Graph()\n",
    "\n",
    "with graph_LR_SGD_REG.as_default():\n",
    "\n",
    "    # Input data. For the training data, we use a placeholder that will be fed\n",
    "    # at run time with a training minibatch.\n",
    "    tf_train_dataset = tf.placeholder(tf.float32,\n",
    "                                    shape=(batch_size, image_size * image_size))\n",
    "    tf_train_labels = tf.placeholder(tf.float32, shape=(batch_size, num_labels))\n",
    "    tf_valid_dataset = tf.constant(valid_dataset)\n",
    "    tf_test_dataset = tf.constant(test_dataset)\n",
    "    \n",
    "    ## ATENTION HERE!!!\n",
    "    tf_beta=tf.placeholder(tf.float32)\n",
    "  \n",
    "    # Variables.\n",
    "    weights = tf.Variable(\n",
    "        tf.truncated_normal([image_size * image_size, num_labels]))\n",
    "    biases = tf.Variable(tf.zeros([num_labels]))\n",
    "  \n",
    "    # Training computation.\n",
    "    logits = tf.matmul(tf_train_dataset, weights) + biases\n",
    "    loss = (tf.reduce_mean(tf.nn.softmax_cross_entropy_with_logits(labels=tf_train_labels,logits=logits))\n",
    "            +tf_beta*tf.reduce_mean(tf.nn.l2_loss(weights)))\n",
    "  \n",
    "    # Optimizer.\n",
    "    optimizer = tf.train.GradientDescentOptimizer(0.5).minimize(loss)\n",
    "  \n",
    "    # Predictions for the training, validation, and test data.\n",
    "    train_prediction = tf.nn.softmax(logits)\n",
    "    valid_prediction = tf.nn.softmax(\n",
    "    tf.matmul(tf_valid_dataset, weights) + biases)\n",
    "    test_prediction = tf.nn.softmax(tf.matmul(tf_test_dataset, weights) + biases)"
   ]
  },
  {
   "cell_type": "markdown",
   "metadata": {},
   "source": [
    "Since we will chosse $\\beta$  by CV, we define a function to train de model, with $\\beta$ value as input parameter"
   ]
  },
  {
   "cell_type": "code",
   "execution_count": 22,
   "metadata": {
    "collapsed": true
   },
   "outputs": [],
   "source": [
    "def train_LR_SGD_REG(mygraph,beta,num_steps):\n",
    "    \n",
    "    with tf.Session(graph=mygraph) as session:\n",
    "        tf.global_variables_initializer().run()\n",
    "        print(\"Reg. parameter =%r\" %(beta))\n",
    "        for step in range(num_steps):\n",
    "            # Pick an offset within the training data, which has been randomized.\n",
    "            # Note: we could use better randomization across epochs.\n",
    "            offset = (step * batch_size) % (train_labels.shape[0] - batch_size)\n",
    "            # Generate a minibatch.\n",
    "            batch_data = train_dataset[offset:(offset + batch_size), :]\n",
    "            batch_labels = train_labels[offset:(offset + batch_size), :]\n",
    "            # Prepare a dictionary telling the session where to feed the minibatch.\n",
    "            # The key of the dictionary is the placeholder node of the graph to be fed,\n",
    "            # and the value is the numpy array to feed to it.\n",
    "            feed_dict = {tf_train_dataset : batch_data, tf_train_labels : batch_labels, tf_beta: beta}\n",
    "            _, l, predictions = session.run(\n",
    "                [optimizer, loss, train_prediction], feed_dict=feed_dict)\n",
    "        valid_accuracy,test_accuracy=accuracy(valid_prediction.eval(), valid_labels),accuracy(test_prediction.eval(), test_labels)\n",
    "    return valid_accuracy,test_accuracy"
   ]
  },
  {
   "cell_type": "code",
   "execution_count": 23,
   "metadata": {
    "collapsed": false
   },
   "outputs": [
    {
     "name": "stdout",
     "output_type": "stream",
     "text": [
      "Reg. parameter =0.001\n",
      "Reg. parameter =0.0031622776601683794\n",
      "Reg. parameter =0.01\n",
      "Reg. parameter =0.031622776601683791\n",
      "Reg. parameter =0.10000000000000001\n"
     ]
    }
   ],
   "source": [
    "num_steps = 5001\n",
    "beta=np.logspace(-3, -1, 5) #Regularization parameter\n",
    "val_performace=np.zeros(beta.shape)\n",
    "test_performace=np.zeros(beta.shape) \n",
    "for i in range(beta.shape[0]):\n",
    "    val_performace[i], test_performace[i]=train_LR_SGD_REG(graph_LR_SGD_REG,beta[i],num_steps)"
   ]
  },
  {
   "cell_type": "code",
   "execution_count": 24,
   "metadata": {
    "collapsed": false
   },
   "outputs": [
    {
     "data": {
      "text/plain": [
       "<matplotlib.legend.Legend at 0x10d806a58>"
      ]
     },
     "execution_count": 24,
     "metadata": {},
     "output_type": "execute_result"
    },
    {
     "data": {
      "image/png": "[encoded data removed]",
      "text/plain": [
       "<matplotlib.figure.Figure at 0x10c645048>"
      ]
     },
     "metadata": {},
     "output_type": "display_data"
    }
   ],
   "source": [
    "plt.semilogx(beta,val_performace,label='validation accuracty')\n",
    "plt.semilogx(beta,test_performace,'r',label='test accuracty')\n",
    "plt.xlabel('Regularization parameter')\n",
    "plt.ylabel('Validation Accuracy')\n",
    "plt.legend(loc=5)"
   ]
  },
  {
   "cell_type": "code",
   "execution_count": 25,
   "metadata": {
    "collapsed": false
   },
   "outputs": [
    {
     "name": "stdout",
     "output_type": "stream",
     "text": [
      "Test accuracy: 87.200000000000003\n",
      "0.01\n"
     ]
    }
   ],
   "source": [
    "print (\"Test accuracy: %r\" %(np.max(test_performace)))\n",
    "\n",
    "betaCV=beta[np.argmax(val_performace)]\n",
    "\n",
    "print (betaCV)"
   ]
  },
  {
   "cell_type": "markdown",
   "metadata": {},
   "source": [
    "## A network with 2 dense layers\n",
    "\n",
    "The following computation graph implements step by step a NN with two dense layer. To save lines of code, Tensor Flow provides some predefine layers that we can use. \n",
    "\n"
   ]
  },
  {
   "cell_type": "code",
   "execution_count": 26,
   "metadata": {
    "collapsed": true
   },
   "outputs": [],
   "source": [
    "batch_size = 128\n",
    "n_units=500\n",
    "beta=1.0\n",
    "graph_2NN = tf.Graph()\n",
    "\n",
    "with graph_2NN.as_default():\n",
    "\n",
    "    # Input data. For the training data, we use a placeholder that will be fed\n",
    "    # at run time with a training minibatch.\n",
    "    tf_train_dataset = tf.placeholder(tf.float32,\n",
    "                                    shape=(batch_size, image_size * image_size))\n",
    "    tf_train_labels = tf.placeholder(tf.float32, shape=(batch_size, num_labels))\n",
    "    tf_valid_dataset = tf.constant(valid_dataset)\n",
    "    tf_test_dataset = tf.constant(test_dataset)\n",
    "    tf_beta=tf.placeholder(tf.float32) \n",
    "    \n",
    "    # Variables.\n",
    "    # We have two weight matrices and two bias vectors\n",
    "    weights_1 = tf.Variable(\n",
    "        tf.truncated_normal([image_size * image_size, n_units]))\n",
    "    biases_1 = tf.Variable(tf.zeros([n_units]))\n",
    "    \n",
    "    weights_2 = tf.Variable(\n",
    "        tf.truncated_normal([n_units, num_labels]))\n",
    "    biases_2 = tf.Variable(tf.zeros([num_labels]))\n",
    "    \n",
    "    # Training computation.\n",
    "    logits_1 = tf.matmul(tf_train_dataset, weights_1) + biases_1\n",
    "    \n",
    "    hidden_1 = tf.nn.relu(logits_1)\n",
    "    \n",
    "    logits_2 = tf.matmul(hidden_1,weights_2) + biases_2\n",
    "    \n",
    "    loss=(tf.reduce_mean(tf.nn.softmax_cross_entropy_with_logits(labels=tf_train_labels,logits=logits_2))\n",
    "        +tf_beta*tf.reduce_mean(tf.nn.l2_loss(weights_1))\n",
    "        +tf_beta*tf.reduce_mean(tf.nn.l2_loss(weights_2)))\n",
    "        \n",
    "        \n",
    "    # Optimizer.\n",
    "    optimizer = tf.train.GradientDescentOptimizer(0.5).minimize(loss)    \n",
    "    \n",
    "    # Validation and test computation\n",
    "    logits_val_1 = tf.matmul(tf_valid_dataset, weights_1) + biases_1\n",
    "    \n",
    "    hidden_val_1 = tf.nn.relu(logits_val_1)\n",
    "    \n",
    "    logits_val_2 = tf.matmul(hidden_val_1,weights_2) + biases_2   \n",
    "\n",
    "    logits_test_1 = tf.matmul(tf_test_dataset, weights_1) + biases_1\n",
    "    \n",
    "    hidden_test_1 = tf.nn.relu(logits_test_1)\n",
    "    \n",
    "    logits_test_2 = tf.matmul(hidden_test_1,weights_2) + biases_2  \n",
    "    \n",
    "    # Predictions for the training, validation, and test data.\n",
    "    train_prediction = tf.nn.softmax(logits_2)\n",
    "    valid_prediction = tf.nn.softmax(logits_val_2)\n",
    "    test_prediction = tf.nn.softmax(logits_test_2)    \n",
    "    "
   ]
  },
  {
   "cell_type": "code",
   "execution_count": 30,
   "metadata": {
    "collapsed": false
   },
   "outputs": [
    {
     "name": "stdout",
     "output_type": "stream",
     "text": [
      "Reg. parameter =0.001\n",
      "Reg. parameter =0.0031622776601683794\n",
      "Reg. parameter =0.01\n",
      "Reg. parameter =0.031622776601683791\n",
      "Reg. parameter =0.10000000000000001\n"
     ]
    }
   ],
   "source": [
    "num_steps = 2000\n",
    "beta=np.logspace(-3, -1, 5) #Regularization parameter\n",
    "val_performace=np.zeros(beta.shape)\n",
    "test_performace=np.zeros(beta.shape) \n",
    "for i in range(beta.shape[0]):\n",
    "    val_performace[i], test_performace[i]=train_LR_SGD_REG(graph_2NN,beta[i],num_steps)"
   ]
  },
  {
   "cell_type": "code",
   "execution_count": 31,
   "metadata": {
    "collapsed": false
   },
   "outputs": [
    {
     "data": {
      "text/plain": [
       "<matplotlib.legend.Legend at 0x11d1cfb70>"
      ]
     },
     "execution_count": 31,
     "metadata": {},
     "output_type": "execute_result"
    },
    {
     "data": {
      "image/png": "[encoded data removed]",
      "text/plain": [
       "<matplotlib.figure.Figure at 0x10d4d3be0>"
      ]
     },
     "metadata": {},
     "output_type": "display_data"
    }
   ],
   "source": [
    "plt.semilogx(beta,val_performace,'-bo',label='validation accuracty')\n",
    "plt.semilogx(beta,test_performace,'-r*',label='test accuracty')\n",
    "plt.xlabel('Regularization parameter')\n",
    "plt.ylabel('Validation Accuracy')\n",
    "plt.legend()"
   ]
  },
  {
   "cell_type": "code",
   "execution_count": 32,
   "metadata": {
    "collapsed": false
   },
   "outputs": [
    {
     "name": "stdout",
     "output_type": "stream",
     "text": [
      "Test accuracy: 90.450000000000003\n",
      "0.00316227766017\n"
     ]
    }
   ],
   "source": [
    "print (\"Test accuracy: %r\" %(np.max(test_performace)))\n",
    "\n",
    "betaCV=beta[np.argmax(val_performace)]\n",
    "\n",
    "print (betaCV)"
   ]
  },
  {
   "cell_type": "code",
   "execution_count": null,
   "metadata": {
    "collapsed": true
   },
   "outputs": [],
   "source": []
  }
 ],
 "metadata": {
  "anaconda-cloud": {},
  "kernelspec": {
   "display_name": "Python 3",
   "language": "python",
   "name": "python3"
  },
  "language_info": {
   "codemirror_mode": {
    "name": "ipython",
    "version": 3
   },
   "file_extension": ".py",
   "mimetype": "text/x-python",
   "name": "python",
   "nbconvert_exporter": "python",
   "pygments_lexer": "ipython3",
   "version": "3.6.0"
  }
 },
 "nbformat": 4,
 "nbformat_minor": 1
}
