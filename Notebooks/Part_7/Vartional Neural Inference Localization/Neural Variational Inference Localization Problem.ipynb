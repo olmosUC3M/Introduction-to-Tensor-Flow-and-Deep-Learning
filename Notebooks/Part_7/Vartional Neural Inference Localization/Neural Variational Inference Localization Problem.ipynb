{
 "cells": [
  {
   "cell_type": "markdown",
   "metadata": {},
   "source": [
    "# Amortized Neural Variational Inference for a toy probabilistic model\n",
    "\n",
    "\n",
    "Consider a certain number of sensors  placed at known locations, $\\mathbf{s}_1,\\mathbf{s}_2,\\ldots,\\mathbf{s}_L$. There is a target at an unknown position $\\mathbf{z}\\in\\mathbb{R}^2$ that is emitting a certain signal that is received at the $i$-th sensor with a signal strength distributed as follows:\n",
    "\n",
    "\\begin{align}\n",
    "x_i \\sim \\mathcal{N}\\Big(- A \\log\\left(||\\mathbf{s}_i-\\mathbf{z} ||^2\\right), \\sigma^2\\Big),\n",
    "\\end{align}\n",
    "\n",
    "where $A$ is a constant related to how fast signal strength degrades with distance. We assume a Gaussian prior for the unknown position $\\mathcal{N}(\\mathbf{0},\\mathbf{I})$. Given a set of $N$ i.i.d. samples for each sensor, $\\mathbf{X}\\in\\mathbb{R}^{L\\times N}$, we will use a Amortized Neural Variational Inference to find a Gaussian approximation to \n",
    "\n",
    "\\begin{align}\n",
    "p(\\mathbf{z}|\\mathbf{X}) \\propto  p(\\mathbf{X}|\\mathbf{z}) p(\\mathbf{z})\n",
    "\\end{align}\n",
    "\n",
    "Our approximation to $p(\\mathbf{z}|\\mathbf{X})$ is of the form\n",
    "\\begin{align}\n",
    "p(\\mathbf{z}|\\mathbf{X}) \\approx q(\\mathbf{z}|\\mathbf{X})=\\mathcal{N}\\Big(\\mu(\\mathbf{X}),\\Sigma(\\mathbf{X})\\Big),\n",
    "\\end{align}\n",
    "where\n",
    "\n",
    "- $\\mu(\\mathbf{X})$ --> Given by a Neural Network with parameter vector $\\theta$ and input $\\mathbf{X}$\n",
    "\n",
    "- $\\Sigma(\\mathbf{X})$ --> Diagonal covariance matrix, where the log of the main diagonal is constructed by a Neural Network with parameter vector $\\gamma$ and input $\\mathbf{X}$"
   ]
  },
  {
   "cell_type": "markdown",
   "metadata": {},
   "source": [
    "## ELBO lower-bound to $p(\\mathbf{X})$\n",
    "\n",
    "We will optimize $q(\\mathbf{z}|\\mathbf{X})$ w.r.t. $\\theta,\\gamma$ by optimizing the Evidence-Lower-Bound (ELBO):\n",
    "\n",
    "\\begin{align}\n",
    "p(\\mathbf{X}) &= \\int p(\\mathbf{X}|\\mathbf{z}) p(\\mathbf{z}) d\\mathbf{z}\\\\\n",
    "&\\geq \\int q(\\mathbf{X}|\\mathbf{z}) \\log \\left(\\frac{p(\\mathbf{X},\\mathbf{z})}{q(\\mathbf{X}|\\mathbf{z})}\\right)d\\mathbf{z}\\\\\n",
    "& = \\mathbb{E}_{q}\\left[\\log  p(\\mathbf{X}|\\mathbf{z})\\right] - D_{KL}(q(\\mathbf{z}|\\mathbf{X})||p(\\mathbf{z})\\triangleq \\mathcal{L}(\\mathbf{X},\\theta,\\gamma),\n",
    "\\end{align}\n",
    "where $D_{KL}(q(\\mathbf{z}|\\mathbf{X})||p(\\mathbf{z})$ is known in closed form since it is the KL divergence between two Gaussian pdfs:\n",
    "\n",
    "\\begin{align}\n",
    "D_{KL}(q(\\mathbf{z}|\\mathbf{X})||p(\\mathbf{z})) = \\frac{1}{2} \\left[\\text{tr}\\left(\\Sigma(\\mathbf{X})\\right)+\\left(\\mu(\\mathbf{X})^T\\mu(\\mathbf{X})\\right)-2-\\log\\det \\left(\\Sigma(\\mathbf{X})\\right) \\right]\n",
    "\\end{align}\n",
    "\n",
    "## SGD optimization\n",
    "\n",
    "- Sample $\\mathbf{\\epsilon}\\sim \\mathcal{N}(\\mathbf{0},\\mathbf{I})$\n",
    "- Sample from $q(\\mathbf{z}|\\mathbf{X})$:\n",
    "\\begin{align}\n",
    "\\mathbf{z}^0 = \\mu(\\mathbf{X}) + \\sqrt{\\text{diag}(\\Sigma(\\mathbf{X}))} \\circ \\mathbf{\\epsilon}\n",
    "\\end{align}\n",
    "- Compute gradients of \n",
    "\\begin{align}\n",
    "\\hat{\\mathcal{L}}(\\mathbf{X},\\theta,\\gamma) =\\log  p(\\mathbf{X}|\\mathbf{z}^0) - D_{KL}(q(\\mathbf{z}|\\mathbf{X})||p(\\mathbf{z})\n",
    "\\end{align}\n",
    "w.r.t. $\\theta,\\gamma$\n",
    "\n",
    "\n"
   ]
  },
  {
   "cell_type": "code",
   "execution_count": 1,
   "metadata": {
    "collapsed": true
   },
   "outputs": [],
   "source": [
    "import numpy as np\n",
    "import matplotlib.pyplot as plt\n",
    "import tensorflow as tf\n",
    "%matplotlib inline\n",
    "\n",
    "# use seaborn plotting defaults\n",
    "import seaborn as sns; sns.set()"
   ]
  },
  {
   "cell_type": "markdown",
   "metadata": {},
   "source": [
    "### Probabilistic model definition and generating samples"
   ]
  },
  {
   "cell_type": "code",
   "execution_count": 2,
   "metadata": {
    "collapsed": true
   },
   "outputs": [],
   "source": [
    "############## Elements of the true probabilistic model ####################\n",
    "\n",
    "loc_info = {}                           \n",
    "        \n",
    "loc_info['S'] = 3 # Number o sensors\n",
    "\n",
    "loc_info['pos_s'] = np.array([[0.5,1], [3.5,1], [2,3]]) #Position of sensors\n",
    "\n",
    "#loc_info['target'] = np.random.uniform(-3,3,[2,])  #(Unknown target position)\n",
    "\n",
    "loc_info['target'] = np.array([-1,2])  #(Unknown target position)\n",
    "\n",
    "loc_info['var_s'] = 5.*np.ones(loc_info['S']).reshape([loc_info['S'],1]) #Variance of sensors\n",
    "\n",
    "loc_info['A'] = np.ones(loc_info['S'],dtype=np.float32) * 10.0 #Attenuation mean factor per sensor\n",
    "\n",
    "loc_info['N'] = 5 # Number of measurements per sensor\n",
    "\n",
    "def sample_X(S,M,z,pos_s,A,var_s):\n",
    "    \n",
    "    means = -1*A*np.log(np.sum((pos_s-z)**2,1))\n",
    "    \n",
    "    X = means.reshape([S,1]) + np.random.randn(S,M) * np.sqrt(var_s)\n",
    "    \n",
    "    return X\n"
   ]
  },
  {
   "cell_type": "code",
   "execution_count": 3,
   "metadata": {
    "collapsed": true
   },
   "outputs": [],
   "source": [
    "# Sampling from model for the right target\n",
    "    \n",
    "X = sample_X(loc_info['S'],loc_info['N'], loc_info['target'],loc_info['pos_s'],loc_info['A'],loc_info['var_s'])"
   ]
  },
  {
   "cell_type": "code",
   "execution_count": 4,
   "metadata": {
    "collapsed": false
   },
   "outputs": [
    {
     "data": {
      "text/plain": [
       "<matplotlib.legend.Legend at 0x11d9e4d30>"
      ]
     },
     "execution_count": 4,
     "metadata": {},
     "output_type": "execute_result"
    },
    {
     "data": {
      "image/png": "[encoded data removed]",
      "text/plain": [
       "<matplotlib.figure.Figure at 0x11d965ba8>"
      ]
     },
     "metadata": {},
     "output_type": "display_data"
    }
   ],
   "source": [
    "plt.plot(loc_info['pos_s'][:,0],loc_info['pos_s'][:,1],'b>',label='Sensors',ms=15)\n",
    "plt.plot(loc_info['target'][0],loc_info['target'][1],'ro',label='Target',ms=15)\n",
    "plt.legend()"
   ]
  },
  {
   "cell_type": "markdown",
   "metadata": {},
   "source": [
    "### TensorFlow Computation Graph and Loss Function"
   ]
  },
  {
   "cell_type": "code",
   "execution_count": 9,
   "metadata": {
    "collapsed": false
   },
   "outputs": [],
   "source": [
    "z_dim = 2       #Latent Space\n",
    "\n",
    "model_name = 'model1'   #In 'model1.py' we define the variational family\n",
    "\n",
    "learning_rate = 1e-2\n",
    "num_samples_avg = 1     #Number of samples to approximate the expectation in the ELBO\n",
    "num_samples = 10        #Number of samples from the posterior (for testing)\n",
    "num_it = int(500)       #SGD iterations\n",
    "period_plot = int(50) #Show resuts every period_plot iterations\n",
    "dims = X.shape #X.shape\n"
   ]
  },
  {
   "cell_type": "code",
   "execution_count": 10,
   "metadata": {
    "collapsed": false
   },
   "outputs": [
    {
     "name": "stdout",
     "output_type": "stream",
     "text": [
      "[*] Importing model: model1\n",
      "[*] Defining placeholders\n",
      "[*] Defining the encoder\n",
      "[*] Defining the log_likelyhood\n"
     ]
    }
   ],
   "source": [
    "sess_VAE = tf.Graph()\n",
    "\n",
    "with sess_VAE.as_default():\n",
    "    \n",
    "    print('[*] Importing model: ' + model_name)\n",
    "    model = __import__(model_name)\n",
    "    \n",
    "    print('[*] Defining placeholders')\n",
    "\n",
    "    inputX = tf.placeholder(tf.float32, shape=dims, name='x-input')\n",
    "    \n",
    "    print('[*] Defining the encoder')\n",
    "    log_var, mean, samples_z, KL = model.encoder(inputX,dims,z_dim,num_samples)\n",
    "        \n",
    "    print('[*] Defining the log_likelyhood')\n",
    "    \n",
    "    loglik = model.decoder(loc_info,inputX,samples_z,num_samples_avg)  \n",
    "        \n",
    "    loss = -(loglik-KL)\n",
    "    \n",
    "    optim = tf.train.AdamOptimizer(learning_rate).minimize(loss)\n",
    "    \n",
    "    # Output dictionary -> Useful if computation graph is defined in a separate .py file\n",
    "    \n",
    "    tf_nodes = {}\n",
    "    \n",
    "    tf_nodes['X'] = inputX\n",
    "    \n",
    "    tf_nodes['mean'] = mean\n",
    "    \n",
    "    tf_nodes['logvar'] = log_var\n",
    "\n",
    "    tf_nodes['KL'] = KL\n",
    "    \n",
    "    tf_nodes['loglik'] = loglik\n",
    "    \n",
    "    tf_nodes['optim'] = optim\n",
    "    \n",
    "    tf_nodes['samples'] = samples_z\n",
    "    "
   ]
  },
  {
   "cell_type": "markdown",
   "metadata": {},
   "source": [
    "## SGD optimization"
   ]
  },
  {
   "cell_type": "code",
   "execution_count": 11,
   "metadata": {
    "collapsed": false
   },
   "outputs": [
    {
     "name": "stdout",
     "output_type": "stream",
     "text": [
      "Training the VAE ...\n",
      "It = 0, loglik = -269687.68750, KL = 2.36075\n",
      "It = 50, loglik = -825.61304, KL = 4.51565\n",
      "It = 100, loglik = -719.19763, KL = 4.73615\n",
      "It = 150, loglik = -612.23724, KL = 5.20749\n",
      "It = 200, loglik = -521.35742, KL = 6.01364\n",
      "It = 250, loglik = -138.71881, KL = 7.08033\n",
      "It = 300, loglik = -76.31411, KL = 7.57954\n",
      "It = 350, loglik = -74.50959, KL = 7.95976\n",
      "It = 400, loglik = -68.68073, KL = 8.02951\n",
      "It = 450, loglik = -65.91257, KL = 8.09907\n"
     ]
    }
   ],
   "source": [
    "   \n",
    "############ SGD Inference #####################################\n",
    "\n",
    "mean_list = []\n",
    "    \n",
    "with tf.Session(graph=sess_VAE) as session:\n",
    "    \n",
    "    # Add ops to save and restore all the variables.\n",
    "    saver = tf.train.Saver()\n",
    "\n",
    "    tf.global_variables_initializer().run()\n",
    "        \n",
    "    print('Training the VAE ...')    \n",
    "    \n",
    "    for it in range(num_it):\n",
    "\n",
    "        feedDict = {tf_nodes['X'] : X}  \n",
    "\n",
    "        _= session.run(tf_nodes['optim'],feedDict)\n",
    "\n",
    "        \n",
    "        if(it % period_plot ==0):\n",
    "            \n",
    "            mean, logvar,loglik,KL = session.run([tf_nodes['mean'],tf_nodes['logvar'],tf_nodes['loglik'],tf_nodes['KL']],feedDict)\n",
    "\n",
    "            print(\"It = %d, loglik = %.5f, KL = %.5f\" %(it,loglik,KL))\n",
    "\n",
    "            mean_list.append(mean)\n",
    "\n",
    "        \n",
    "    samples = session.run(tf_nodes['samples'],feedDict)\n"
   ]
  },
  {
   "cell_type": "code",
   "execution_count": 12,
   "metadata": {
    "collapsed": false
   },
   "outputs": [
    {
     "data": {
      "text/plain": [
       "<matplotlib.legend.Legend at 0x11e67bb38>"
      ]
     },
     "execution_count": 12,
     "metadata": {},
     "output_type": "execute_result"
    },
    {
     "data": {
      "image/png": "[encoded data removed]",
      "text/plain": [
       "<matplotlib.figure.Figure at 0x11e01e128>"
      ]
     },
     "metadata": {},
     "output_type": "display_data"
    }
   ],
   "source": [
    "#Samples from q(z|x)\n",
    "m_evol = np.vstack(mean_list)\n",
    "nsamples = 50\n",
    "\n",
    "samples = mean + np.sqrt(np.exp(logvar)) * np.random.randn(nsamples,2)\n",
    "\n",
    "plt.plot(loc_info['pos_s'][:,0],loc_info['pos_s'][:,1],'b>',label='Sensors',ms=15)\n",
    "plt.plot(loc_info['target'][0],loc_info['target'][1],'ro',label='Target',ms=15)\n",
    "plt.plot(m_evol[:,0],m_evol[:,1],'g>',label='Post Mean')\n",
    "plt.scatter(samples[:,0],samples[:,1],label='Post Samples')\n",
    "plt.rcParams[\"figure.figsize\"] = [8,8]\n",
    "plt.legend()"
   ]
  },
  {
   "cell_type": "code",
   "execution_count": null,
   "metadata": {
    "collapsed": true
   },
   "outputs": [],
   "source": []
  }
 ],
 "metadata": {
  "kernelspec": {
   "display_name": "Python 3",
   "language": "python",
   "name": "python3"
  },
  "language_info": {
   "codemirror_mode": {
    "name": "ipython",
    "version": 3
   },
   "file_extension": ".py",
   "mimetype": "text/x-python",
   "name": "python",
   "nbconvert_exporter": "python",
   "pygments_lexer": "ipython3",
   "version": "3.6.0"
  }
 },
 "nbformat": 4,
 "nbformat_minor": 2
}
